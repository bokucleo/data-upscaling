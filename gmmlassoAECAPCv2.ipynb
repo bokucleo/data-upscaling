{
 "cells": [
  {
   "cell_type": "code",
   "execution_count": 1,
   "metadata": {},
   "outputs": [],
   "source": [
    "import numpy as np\n",
    "import pandas as pd\n",
    "from sklearn.decomposition import PCA\n",
    "from sklearn.mixture import GaussianMixture as GMM\n",
    "%matplotlib inline\n",
    "import matplotlib.pyplot as plt\n",
    "from itertools import cycle\n",
    "import seaborn as sns\n",
    "import sklearn.linear_model as lm\n",
    "from IPython.core.pylabtools import figsize\n",
    "from IPython.display import display\n",
    "import math\n",
    "import warnings\n",
    "from sklearn.model_selection import LeaveOneOut\n",
    "from sklearn.model_selection import cross_val_score\n",
    "from sklearn.svm import SVC \n",
    "from sklearn.model_selection import GridSearchCV\n",
    "import time\n",
    "from sklearn.preprocessing import StandardScaler \n",
    "\n",
    "from sklearn.linear_model import Lasso,LassoCV\n",
    "import seaborn as sns\n",
    "\n",
    "warnings.filterwarnings(\"ignore\")\n",
    "\n",
    "\n"
   ]
  },
  {
   "cell_type": "code",
   "execution_count": 103,
   "metadata": {},
   "outputs": [
    {
     "data": {
      "image/png": "[encoded data removed]",
      "text/plain": [
       "<Figure size 432x288 with 1 Axes>"
      ]
     },
     "metadata": {},
     "output_type": "display_data"
    }
   ],
   "source": [
    "data=pd.read_csv(\"sony.csv\",header=None)\n",
    "pca = PCA(0.99, whiten=True)\n",
    "dataDR = pca.fit_transform(data)\n",
    "n_components = np.arange(1,50,1)\n",
    "models = [GMM(n, covariance_type='full', random_state=0)\n",
    "          for n in n_components]\n",
    "aics = [model.fit(dataDR).aic(dataDR) for model in models]\n",
    "bics = [model.fit(dataDR).bic(dataDR) for model in models]\n",
    "\n",
    "plt.plot(n_components, bics,label=\"BIC\")\n",
    "plt.plot(n_components, aics,label=\"AIC\")\n",
    "plt.legend()\n",
    "plt.show()\n",
    "\n",
    "\n"
   ]
  },
  {
   "cell_type": "code",
   "execution_count": 3,
   "metadata": {},
   "outputs": [
    {
     "name": "stdout",
     "output_type": "stream",
     "text": [
      "True\n"
     ]
    }
   ],
   "source": [
    "gmm = GMM(17, covariance_type='full', random_state=0)\n",
    "gmm.fit(dataDR)\n",
    "print(gmm.converged_)\n",
    "data_new = gmm.sample(10000)\n",
    "sonynew = pca.inverse_transform(data_new[0])\n",
    "df=pd.DataFrame(sonynew)"
   ]
  },
  {
   "cell_type": "code",
   "execution_count": 4,
   "metadata": {},
   "outputs": [],
   "source": [
    "df2=pd.read_csv('lasso_sorted2.csv',header=0,encoding='utf-8')#qc1-9data\n",
    "df.columns=df2.columns"
   ]
  },
  {
   "cell_type": "code",
   "execution_count": 5,
   "metadata": {},
   "outputs": [
    {
     "data": {
      "text/html": [
       "<div>\n",
       "<style scoped>\n",
       "    .dataframe tbody tr th:only-of-type {\n",
       "        vertical-align: middle;\n",
       "    }\n",
       "\n",
       "    .dataframe tbody tr th {\n",
       "        vertical-align: top;\n",
       "    }\n",
       "\n",
       "    .dataframe thead th {\n",
       "        text-align: right;\n",
       "    }\n",
       "</style>\n",
       "<table border=\"1\" class=\"dataframe\">\n",
       "  <thead>\n",
       "    <tr style=\"text-align: right;\">\n",
       "      <th></th>\n",
       "      <th>QC1</th>\n",
       "      <th>QC2</th>\n",
       "      <th>QC3</th>\n",
       "      <th>QC4</th>\n",
       "      <th>QC5</th>\n",
       "      <th>QC6</th>\n",
       "      <th>QC7</th>\n",
       "      <th>QC8</th>\n",
       "      <th>QC9</th>\n",
       "      <th>EQC1_max</th>\n",
       "      <th>...</th>\n",
       "      <th>EQC17_avg</th>\n",
       "      <th>EQC17_stdev</th>\n",
       "      <th>EQC17_range</th>\n",
       "      <th>EQC18_max</th>\n",
       "      <th>EQC18_min</th>\n",
       "      <th>EQC18_avg</th>\n",
       "      <th>EQC18_stdev</th>\n",
       "      <th>EQC18_range</th>\n",
       "      <th>stdevlabel</th>\n",
       "      <th>diff2label</th>\n",
       "    </tr>\n",
       "    <tr>\n",
       "      <th>9classlabel</th>\n",
       "      <th></th>\n",
       "      <th></th>\n",
       "      <th></th>\n",
       "      <th></th>\n",
       "      <th></th>\n",
       "      <th></th>\n",
       "      <th></th>\n",
       "      <th></th>\n",
       "      <th></th>\n",
       "      <th></th>\n",
       "      <th></th>\n",
       "      <th></th>\n",
       "      <th></th>\n",
       "      <th></th>\n",
       "      <th></th>\n",
       "      <th></th>\n",
       "      <th></th>\n",
       "      <th></th>\n",
       "      <th></th>\n",
       "      <th></th>\n",
       "      <th></th>\n",
       "    </tr>\n",
       "  </thead>\n",
       "  <tbody>\n",
       "    <tr>\n",
       "      <th>Aa</th>\n",
       "      <td>5821</td>\n",
       "      <td>5821</td>\n",
       "      <td>5821</td>\n",
       "      <td>5821</td>\n",
       "      <td>5821</td>\n",
       "      <td>5821</td>\n",
       "      <td>5821</td>\n",
       "      <td>5821</td>\n",
       "      <td>5821</td>\n",
       "      <td>5821</td>\n",
       "      <td>...</td>\n",
       "      <td>5821</td>\n",
       "      <td>5821</td>\n",
       "      <td>5821</td>\n",
       "      <td>5821</td>\n",
       "      <td>5821</td>\n",
       "      <td>5821</td>\n",
       "      <td>5821</td>\n",
       "      <td>5821</td>\n",
       "      <td>5821</td>\n",
       "      <td>5821</td>\n",
       "    </tr>\n",
       "    <tr>\n",
       "      <th>Ab</th>\n",
       "      <td>239</td>\n",
       "      <td>239</td>\n",
       "      <td>239</td>\n",
       "      <td>239</td>\n",
       "      <td>239</td>\n",
       "      <td>239</td>\n",
       "      <td>239</td>\n",
       "      <td>239</td>\n",
       "      <td>239</td>\n",
       "      <td>239</td>\n",
       "      <td>...</td>\n",
       "      <td>239</td>\n",
       "      <td>239</td>\n",
       "      <td>239</td>\n",
       "      <td>239</td>\n",
       "      <td>239</td>\n",
       "      <td>239</td>\n",
       "      <td>239</td>\n",
       "      <td>239</td>\n",
       "      <td>239</td>\n",
       "      <td>239</td>\n",
       "    </tr>\n",
       "    <tr>\n",
       "      <th>Ac</th>\n",
       "      <td>3</td>\n",
       "      <td>3</td>\n",
       "      <td>3</td>\n",
       "      <td>3</td>\n",
       "      <td>3</td>\n",
       "      <td>3</td>\n",
       "      <td>3</td>\n",
       "      <td>3</td>\n",
       "      <td>3</td>\n",
       "      <td>3</td>\n",
       "      <td>...</td>\n",
       "      <td>3</td>\n",
       "      <td>3</td>\n",
       "      <td>3</td>\n",
       "      <td>3</td>\n",
       "      <td>3</td>\n",
       "      <td>3</td>\n",
       "      <td>3</td>\n",
       "      <td>3</td>\n",
       "      <td>3</td>\n",
       "      <td>3</td>\n",
       "    </tr>\n",
       "    <tr>\n",
       "      <th>Ba</th>\n",
       "      <td>3258</td>\n",
       "      <td>3258</td>\n",
       "      <td>3258</td>\n",
       "      <td>3258</td>\n",
       "      <td>3258</td>\n",
       "      <td>3258</td>\n",
       "      <td>3258</td>\n",
       "      <td>3258</td>\n",
       "      <td>3258</td>\n",
       "      <td>3258</td>\n",
       "      <td>...</td>\n",
       "      <td>3258</td>\n",
       "      <td>3258</td>\n",
       "      <td>3258</td>\n",
       "      <td>3258</td>\n",
       "      <td>3258</td>\n",
       "      <td>3258</td>\n",
       "      <td>3258</td>\n",
       "      <td>3258</td>\n",
       "      <td>3258</td>\n",
       "      <td>3258</td>\n",
       "    </tr>\n",
       "    <tr>\n",
       "      <th>Bb</th>\n",
       "      <td>580</td>\n",
       "      <td>580</td>\n",
       "      <td>580</td>\n",
       "      <td>580</td>\n",
       "      <td>580</td>\n",
       "      <td>580</td>\n",
       "      <td>580</td>\n",
       "      <td>580</td>\n",
       "      <td>580</td>\n",
       "      <td>580</td>\n",
       "      <td>...</td>\n",
       "      <td>580</td>\n",
       "      <td>580</td>\n",
       "      <td>580</td>\n",
       "      <td>580</td>\n",
       "      <td>580</td>\n",
       "      <td>580</td>\n",
       "      <td>580</td>\n",
       "      <td>580</td>\n",
       "      <td>580</td>\n",
       "      <td>580</td>\n",
       "    </tr>\n",
       "    <tr>\n",
       "      <th>Bc</th>\n",
       "      <td>21</td>\n",
       "      <td>21</td>\n",
       "      <td>21</td>\n",
       "      <td>21</td>\n",
       "      <td>21</td>\n",
       "      <td>21</td>\n",
       "      <td>21</td>\n",
       "      <td>21</td>\n",
       "      <td>21</td>\n",
       "      <td>21</td>\n",
       "      <td>...</td>\n",
       "      <td>21</td>\n",
       "      <td>21</td>\n",
       "      <td>21</td>\n",
       "      <td>21</td>\n",
       "      <td>21</td>\n",
       "      <td>21</td>\n",
       "      <td>21</td>\n",
       "      <td>21</td>\n",
       "      <td>21</td>\n",
       "      <td>21</td>\n",
       "    </tr>\n",
       "    <tr>\n",
       "      <th>Ca</th>\n",
       "      <td>45</td>\n",
       "      <td>45</td>\n",
       "      <td>45</td>\n",
       "      <td>45</td>\n",
       "      <td>45</td>\n",
       "      <td>45</td>\n",
       "      <td>45</td>\n",
       "      <td>45</td>\n",
       "      <td>45</td>\n",
       "      <td>45</td>\n",
       "      <td>...</td>\n",
       "      <td>45</td>\n",
       "      <td>45</td>\n",
       "      <td>45</td>\n",
       "      <td>45</td>\n",
       "      <td>45</td>\n",
       "      <td>45</td>\n",
       "      <td>45</td>\n",
       "      <td>45</td>\n",
       "      <td>45</td>\n",
       "      <td>45</td>\n",
       "    </tr>\n",
       "    <tr>\n",
       "      <th>Cb</th>\n",
       "      <td>31</td>\n",
       "      <td>31</td>\n",
       "      <td>31</td>\n",
       "      <td>31</td>\n",
       "      <td>31</td>\n",
       "      <td>31</td>\n",
       "      <td>31</td>\n",
       "      <td>31</td>\n",
       "      <td>31</td>\n",
       "      <td>31</td>\n",
       "      <td>...</td>\n",
       "      <td>31</td>\n",
       "      <td>31</td>\n",
       "      <td>31</td>\n",
       "      <td>31</td>\n",
       "      <td>31</td>\n",
       "      <td>31</td>\n",
       "      <td>31</td>\n",
       "      <td>31</td>\n",
       "      <td>31</td>\n",
       "      <td>31</td>\n",
       "    </tr>\n",
       "    <tr>\n",
       "      <th>Cc</th>\n",
       "      <td>2</td>\n",
       "      <td>2</td>\n",
       "      <td>2</td>\n",
       "      <td>2</td>\n",
       "      <td>2</td>\n",
       "      <td>2</td>\n",
       "      <td>2</td>\n",
       "      <td>2</td>\n",
       "      <td>2</td>\n",
       "      <td>2</td>\n",
       "      <td>...</td>\n",
       "      <td>2</td>\n",
       "      <td>2</td>\n",
       "      <td>2</td>\n",
       "      <td>2</td>\n",
       "      <td>2</td>\n",
       "      <td>2</td>\n",
       "      <td>2</td>\n",
       "      <td>2</td>\n",
       "      <td>2</td>\n",
       "      <td>2</td>\n",
       "    </tr>\n",
       "  </tbody>\n",
       "</table>\n",
       "<p>9 rows × 101 columns</p>\n",
       "</div>"
      ],
      "text/plain": [
       "              QC1   QC2   QC3   QC4   QC5   QC6   QC7   QC8   QC9  EQC1_max  \\\n",
       "9classlabel                                                                   \n",
       "Aa           5821  5821  5821  5821  5821  5821  5821  5821  5821      5821   \n",
       "Ab            239   239   239   239   239   239   239   239   239       239   \n",
       "Ac              3     3     3     3     3     3     3     3     3         3   \n",
       "Ba           3258  3258  3258  3258  3258  3258  3258  3258  3258      3258   \n",
       "Bb            580   580   580   580   580   580   580   580   580       580   \n",
       "Bc             21    21    21    21    21    21    21    21    21        21   \n",
       "Ca             45    45    45    45    45    45    45    45    45        45   \n",
       "Cb             31    31    31    31    31    31    31    31    31        31   \n",
       "Cc              2     2     2     2     2     2     2     2     2         2   \n",
       "\n",
       "             ...  EQC17_avg  EQC17_stdev  EQC17_range  EQC18_max  EQC18_min  \\\n",
       "9classlabel  ...                                                              \n",
       "Aa           ...       5821         5821         5821       5821       5821   \n",
       "Ab           ...        239          239          239        239        239   \n",
       "Ac           ...          3            3            3          3          3   \n",
       "Ba           ...       3258         3258         3258       3258       3258   \n",
       "Bb           ...        580          580          580        580        580   \n",
       "Bc           ...         21           21           21         21         21   \n",
       "Ca           ...         45           45           45         45         45   \n",
       "Cb           ...         31           31           31         31         31   \n",
       "Cc           ...          2            2            2          2          2   \n",
       "\n",
       "             EQC18_avg  EQC18_stdev  EQC18_range  stdevlabel  diff2label  \n",
       "9classlabel                                                               \n",
       "Aa                5821         5821         5821        5821        5821  \n",
       "Ab                 239          239          239         239         239  \n",
       "Ac                   3            3            3           3           3  \n",
       "Ba                3258         3258         3258        3258        3258  \n",
       "Bb                 580          580          580         580         580  \n",
       "Bc                  21           21           21          21          21  \n",
       "Ca                  45           45           45          45          45  \n",
       "Cb                  31           31           31          31          31  \n",
       "Cc                   2            2            2           2           2  \n",
       "\n",
       "[9 rows x 101 columns]"
      ]
     },
     "execution_count": 5,
     "metadata": {},
     "output_type": "execute_result"
    }
   ],
   "source": [
    "qc=df.iloc[:,0:9]\n",
    "stdev=qc.std(axis=1)\n",
    "stdev=(stdev - stdev.mean()) / stdev.std() #標準化\n",
    "diff2=(qc-1900)**2\n",
    "diff2=np.sum(diff2,axis=1)\n",
    "diff2=np.sqrt(diff2)\n",
    "diff2=(diff2 - diff2.mean()) / diff2.std() #標準化\n",
    "st=pd.DataFrame(stdev, columns = ['stdev'])\n",
    "di2=pd.DataFrame(diff2, columns = ['diff2'])\n",
    "qcd=pd.concat([st,di2],axis=1)\n",
    "df[\"stdevlabel\"]=pd.cut(qcd[\"stdev\"],3, labels=['A','B','C'])\n",
    "df[\"diff2label\"]=pd.cut(qcd[\"diff2\"],3, labels=['a','b','c'])\n",
    "df[\"9classlabel\"]=df[\"stdevlabel\"].astype('object')+df[\"diff2label\"].astype('object')\n",
    "df.groupby(\"9classlabel\").count()  "
   ]
  },
  {
   "cell_type": "code",
   "execution_count": 6,
   "metadata": {},
   "outputs": [],
   "source": [
    "eqc=df.iloc[:,9:99]\n",
    "sc = StandardScaler()\n",
    "eqc_scaled=pd.DataFrame(sc.fit_transform(eqc))"
   ]
  },
  {
   "cell_type": "markdown",
   "metadata": {},
   "source": [
    "<h2 style=\"color:green\">ヒストグラムと箱ひげ図<h2>\n",
    "①全部は正規分布に従う ②平均、標準偏差はそれぞれ"
   ]
  },
  {
   "cell_type": "code",
   "execution_count": 7,
   "metadata": {},
   "outputs": [
    {
     "data": {
      "image/png": "[encoded data removed]",
      "text/plain": [
       "<Figure size 720x720 with 9 Axes>"
      ]
     },
     "metadata": {},
     "output_type": "display_data"
    }
   ],
   "source": [
    "sns.set(color_codes=True)\n",
    "qc.hist(alpha=0.8,figsize=(10,10))\n",
    "plt.show()\n"
   ]
  },
  {
   "cell_type": "code",
   "execution_count": null,
   "metadata": {},
   "outputs": [],
   "source": []
  },
  {
   "cell_type": "code",
   "execution_count": 8,
   "metadata": {},
   "outputs": [
    {
     "data": {
      "image/png": "[encoded data removed]",
      "text/plain": [
       "<Figure size 720x720 with 9 Axes>"
      ]
     },
     "metadata": {},
     "output_type": "display_data"
    }
   ],
   "source": [
    "                                                                                                                                    data.columns=df2.columns\n",
    "                                                                                                                                    oriqc=data.iloc[:,0:9]\n",
    "                                                                                                                                    oriqc.hist(alpha=0.8,figsize=(10,10))\n",
    "                                                                                                                                    plt.show()"
   ]
  },
  {
   "cell_type": "code",
   "execution_count": 9,
   "metadata": {},
   "outputs": [
    {
     "data": {
      "text/plain": [
       "array([[<matplotlib.axes._subplots.AxesSubplot object at 0x00000214569A8F98>,\n",
       "        <matplotlib.axes._subplots.AxesSubplot object at 0x0000021457D8BB38>,\n",
       "        <matplotlib.axes._subplots.AxesSubplot object at 0x0000021457DAA5C0>],\n",
       "       [<matplotlib.axes._subplots.AxesSubplot object at 0x0000021453E78080>,\n",
       "        <matplotlib.axes._subplots.AxesSubplot object at 0x0000021453E9CB00>,\n",
       "        <matplotlib.axes._subplots.AxesSubplot object at 0x0000021453E9CB38>],\n",
       "       [<matplotlib.axes._subplots.AxesSubplot object at 0x0000021453EFB080>,\n",
       "        <matplotlib.axes._subplots.AxesSubplot object at 0x0000021453F20B00>,\n",
       "        <matplotlib.axes._subplots.AxesSubplot object at 0x0000021453F535C0>]],\n",
       "      dtype=object)"
      ]
     },
     "execution_count": 9,
     "metadata": {},
     "output_type": "execute_result"
    },
    {
     "data": {
      "image/png": "[encoded data removed]",
      "text/plain": [
       "<Figure size 720x720 with 9 Axes>"
      ]
     },
     "metadata": {},
     "output_type": "display_data"
    }
   ],
   "source": [
    "list=np.random.randint(90,size=9)\n",
    "list\n",
    "eqc=df.iloc[:,9:99]\n",
    "eqcs=eqc.iloc[:,list]\n",
    "eqcs.hist(alpha=0.8,figsize=(10,10))\n"
   ]
  },
  {
   "cell_type": "markdown",
   "metadata": {},
   "source": [
    "orieqc=data.iloc[:,9:99]\n",
    "\n",
    "orieqcs.hist(alpha=0.8,figsize=(10,10))\n",
    "plt.show()"
   ]
  },
  {
   "cell_type": "code",
   "execution_count": 10,
   "metadata": {},
   "outputs": [
    {
     "data": {
      "text/plain": [
       "array([ 0,  7, 52,  0,  9, 86, 44,  4, 45])"
      ]
     },
     "execution_count": 10,
     "metadata": {},
     "output_type": "execute_result"
    }
   ],
   "source": [
    "list"
   ]
  },
  {
   "cell_type": "code",
   "execution_count": 11,
   "metadata": {},
   "outputs": [
    {
     "data": {
      "text/plain": [
       "array([[<matplotlib.axes._subplots.AxesSubplot object at 0x0000021453FB4160>,\n",
       "        <matplotlib.axes._subplots.AxesSubplot object at 0x0000021454090898>],\n",
       "       [<matplotlib.axes._subplots.AxesSubplot object at 0x00000214540ACF98>,\n",
       "        <matplotlib.axes._subplots.AxesSubplot object at 0x00000214540D86D8>]],\n",
       "      dtype=object)"
      ]
     },
     "execution_count": 11,
     "metadata": {},
     "output_type": "execute_result"
    },
    {
     "data": {
      "image/png": "[encoded data removed]",
      "text/plain": [
       "<Figure size 360x360 with 4 Axes>"
      ]
     },
     "metadata": {},
     "output_type": "display_data"
    }
   ],
   "source": [
    "data2=df.iloc[:,[27,59,78]]\n",
    "data2.hist(alpha=0.8,figsize=(5,5))"
   ]
  },
  {
   "cell_type": "code",
   "execution_count": 12,
   "metadata": {},
   "outputs": [
    {
     "data": {
      "text/plain": [
       "array([[<matplotlib.axes._subplots.AxesSubplot object at 0x00000214541544A8>,\n",
       "        <matplotlib.axes._subplots.AxesSubplot object at 0x0000021456866AC8>],\n",
       "       [<matplotlib.axes._subplots.AxesSubplot object at 0x000002145698CEB8>,\n",
       "        <matplotlib.axes._subplots.AxesSubplot object at 0x00000214566F2128>]],\n",
       "      dtype=object)"
      ]
     },
     "execution_count": 12,
     "metadata": {},
     "output_type": "execute_result"
    },
    {
     "data": {
      "image/png": "[encoded data removed]",
      "text/plain": [
       "<Figure size 360x360 with 4 Axes>"
      ]
     },
     "metadata": {},
     "output_type": "display_data"
    }
   ],
   "source": [
    "data3=df2.iloc[:,[27,59,78]]\n",
    "data3.hist(alpha=0.8,figsize=(5,5))"
   ]
  },
  {
   "cell_type": "code",
   "execution_count": 13,
   "metadata": {},
   "outputs": [
    {
     "data": {
      "text/plain": [
       "array([[<matplotlib.axes._subplots.AxesSubplot object at 0x00000214568B8E80>,\n",
       "        <matplotlib.axes._subplots.AxesSubplot object at 0x0000021451897B70>],\n",
       "       [<matplotlib.axes._subplots.AxesSubplot object at 0x00000214568963C8>,\n",
       "        <matplotlib.axes._subplots.AxesSubplot object at 0x00000214545A4AC8>]],\n",
       "      dtype=object)"
      ]
     },
     "execution_count": 13,
     "metadata": {},
     "output_type": "execute_result"
    },
    {
     "data": {
      "image/png": "[encoded data removed]",
      "text/plain": [
       "<Figure size 360x360 with 4 Axes>"
      ]
     },
     "metadata": {},
     "output_type": "display_data"
    }
   ],
   "source": [
    "data1=data.iloc[:,[27,59,78]]\n",
    "data1.hist(alpha=0.8,figsize=(5,5))"
   ]
  },
  {
   "cell_type": "code",
   "execution_count": 72,
   "metadata": {},
   "outputs": [],
   "source": [
    "eqchikaku=pd.concat([data1,data3,data2],axis=1)\n",
    "eqchikaku1=pd.DataFrame(sc.fit_transform(eqchikaku))\n",
    "eqchikaku1.columns=[\"original EQC4std\",\"original EQC11max\",\"original EQC14range\",\"MND EQC4std\",\"MND EQC11max\",\"MND EQC14range\",\"GMM EQC4std\",\"GMM EQC11max\",\"GMM EQC14range\"]\n",
    "data11=pd.DataFrame(sc.fit_transform(data1))\n",
    "data11.columns=[\"original EQC4std\",\"original EQC11max\",\"original EQC14range\"]\n",
    "eqchikaku11=eqchikaku1.iloc[:,3:9]"
   ]
  },
  {
   "cell_type": "code",
   "execution_count": 15,
   "metadata": {},
   "outputs": [],
   "source": [
    "from sklearn.svm import LinearSVC\n",
    "clf_lin= LinearSVC()\n",
    "clf_rbf=SVC(kernel='rbf')"
   ]
  },
  {
   "cell_type": "code",
   "execution_count": 16,
   "metadata": {
    "scrolled": true
   },
   "outputs": [
    {
     "data": {
      "text/plain": [
       "array([[<matplotlib.axes._subplots.AxesSubplot object at 0x0000021456807518>,\n",
       "        <matplotlib.axes._subplots.AxesSubplot object at 0x0000021456982EF0>,\n",
       "        <matplotlib.axes._subplots.AxesSubplot object at 0x0000021451820DD8>],\n",
       "       [<matplotlib.axes._subplots.AxesSubplot object at 0x000002145458A080>,\n",
       "        <matplotlib.axes._subplots.AxesSubplot object at 0x00000214545EF9E8>,\n",
       "        <matplotlib.axes._subplots.AxesSubplot object at 0x00000214545EFA20>],\n",
       "       [<matplotlib.axes._subplots.AxesSubplot object at 0x00000214541ABCF8>,\n",
       "        <matplotlib.axes._subplots.AxesSubplot object at 0x000002145456A6A0>,\n",
       "        <matplotlib.axes._subplots.AxesSubplot object at 0x0000021451607048>]],\n",
       "      dtype=object)"
      ]
     },
     "execution_count": 16,
     "metadata": {},
     "output_type": "execute_result"
    },
    {
     "data": {
      "image/png": "[encoded data removed]",
      "text/plain": [
       "<Figure size 720x720 with 9 Axes>"
      ]
     },
     "metadata": {},
     "output_type": "display_data"
    }
   ],
   "source": [
    "eqchikaku1.hist(sharex=True,figsize=(10,10))"
   ]
  },
  {
   "cell_type": "code",
   "execution_count": 94,
   "metadata": {
    "scrolled": true
   },
   "outputs": [
    {
     "data": {
      "image/png": "[encoded data removed]",
      "text/plain": [
       "<Figure size 648x648 with 9 Axes>"
      ]
     },
     "metadata": {},
     "output_type": "display_data"
    },
    {
     "data": {
      "image/png": "[encoded data removed]",
      "text/plain": [
       "<Figure size 648x648 with 9 Axes>"
      ]
     },
     "metadata": {},
     "output_type": "display_data"
    }
   ],
   "source": [
    "ax1=data11.hist(layout=(3,3),sharex=True,sharey=True,figsize=(9,9))\n",
    "ax2=eqchikaku11.hist(layout=(3,3),sharey=True,sharex=True,figsize=(9,9))\n"
   ]
  },
  {
   "cell_type": "code",
   "execution_count": null,
   "metadata": {},
   "outputs": [],
   "source": []
  },
  {
   "cell_type": "code",
   "execution_count": 64,
   "metadata": {},
   "outputs": [
    {
     "data": {
      "text/plain": [
       "(array([28.,  0.,  0.,  0.,  0.,  0.,  0.,  0.,  0., 22.]),\n",
       " array([-0.88640526, -0.68494952, -0.48349378, -0.28203804, -0.0805823 ,\n",
       "         0.12087344,  0.32232919,  0.52378493,  0.72524067,  0.92669641,\n",
       "         1.12815215]),\n",
       " <a list of 10 Patch objects>)"
      ]
     },
     "execution_count": 64,
     "metadata": {},
     "output_type": "execute_result"
    },
    {
     "data": {
      "image/png": "[encoded data removed]",
      "text/plain": [
       "<Figure size 432x288 with 2 Axes>"
      ]
     },
     "metadata": {},
     "output_type": "display_data"
    }
   ],
   "source": [
    "\n",
    "ax1 = plt.subplot(331)\n",
    "plt.hist(data11[\"original EQC4std\"])\n",
    "plt.axis([-4, 4, 0, 25])\n",
    "plt.setp(plt.gca(), xticklabels=[], xticks=(-2, 0, 2), yticks=(0, 10, 20))\n",
    "\n",
    "ax2=plt.subplot(332,sharex=ax1)\n",
    "plt.hist(data11[\"original EQC11max\"])\n",
    "\n"
   ]
  },
  {
   "cell_type": "markdown",
   "metadata": {},
   "source": [
    "# lasso +svm \n",
    "50"
   ]
  },
  {
   "cell_type": "code",
   "execution_count": 78,
   "metadata": {},
   "outputs": [
    {
     "name": "stdout",
     "output_type": "stream",
     "text": [
      "最適alpha：0.07419804329073912\n",
      "Lasso picked 10 variables and eliminated the other 80 variables\n",
      "最適alpha：0.22602959302736692\n",
      "Lasso picked 5 variables and eliminated the other 85 variables\n",
      "(14,)\n",
      "[0.75       0.85714286 0.83333333 0.83333333 0.8        0.75\n",
      " 0.5        0.75       1.         1.        ]\n",
      "RBF Accuracy: 0.81 (+/- 0.135)\n",
      "計算時間: 0.025154377771286818\n",
      "[0.625      0.71428571 0.66666667 1.         0.8        0.75\n",
      " 0.5        0.75       0.66666667 0.66666667]\n",
      "Lin Accuracy: 0.71 (+/- 0.123)\n",
      "計算時間: 0.04867234635321438\n"
     ]
    }
   ],
   "source": [
    "row=np.random.randint(10000,size=50)\n",
    "y1=stdev[row]\n",
    "y2=diff2[row]\n",
    "x=eqc_scaled.iloc[row,:]\n",
    "\n",
    "from sklearn.linear_model import Lasso,LassoCV\n",
    "\n",
    "lassocv1 = LassoCV(cv=10).fit(x,y1)\n",
    "\n",
    "alpha1 = lassocv1.alpha_\n",
    "print('最適alpha：' + str(alpha1))\n",
    "\n",
    "coef1 = pd.Series(lassocv1.coef_)# .coef_ 可以返回经过学习后的所有 feature 的参数。\n",
    "print(\"Lasso picked \" + str(sum(coef1 != 0)) + \" variables and eliminated the other \" +  str(sum(coef1 == 0)) + \" variables\")\n",
    "\n",
    "\n",
    "lassocv2 = LassoCV(cv=10).fit(x,y2)\n",
    "alpha2 = lassocv2.alpha_\n",
    "print('最適alpha：' + str(alpha2))\n",
    "\n",
    "coef2 = pd.Series(lassocv2.coef_)# .coef_ 可以返回经过学习后的所有 feature 的参数。\n",
    "print(\"Lasso picked \" + str(sum(coef2 != 0)) + \" variables and eliminated the other \" +  str(sum(coef2 == 0)) + \" variables\")\n",
    "\n",
    "pc1_index= np.where(coef1 != 0)\n",
    "pc2_index= np.where(coef2 != 0)\n",
    "index=np.union1d(pc1_index,pc2_index)\n",
    "print(index.shape)\n",
    "\n",
    "\n",
    "y=df.iloc[row,101]\n",
    "svm_x=eqc_scaled.iloc[row,index]\n",
    "start = time.clock()\n",
    "\n",
    "scores = cross_val_score(clf_rbf,svm_x, y,cv=10,scoring='accuracy')\n",
    "print(scores)\n",
    "print(\"RBF Accuracy: %0.2f (+/- %0.3f)\" % (scores.mean(), scores.std() ))\n",
    "end = time.clock()\n",
    "print(\"計算時間:\",end-start)\n",
    "\n",
    "start = time.clock()\n",
    "\n",
    "scores = cross_val_score(clf_lin,svm_x, y, cv=10,scoring='accuracy')\n",
    "print(scores)\n",
    "print(\"Lin Accuracy: %0.2f (+/- %0.3f)\" % (scores.mean(), scores.std() ))\n",
    "end = time.clock()\n",
    "print(\"計算時間:\",end-start)"
   ]
  },
  {
   "cell_type": "code",
   "execution_count": 106,
   "metadata": {},
   "outputs": [
    {
     "name": "stdout",
     "output_type": "stream",
     "text": [
      "最適alpha：0.07739210519146654\n",
      "Lasso picked 11 variables and eliminated the other 79 variables\n",
      "最適alpha：0.13626157364399544\n",
      "Lasso picked 7 variables and eliminated the other 83 variables\n",
      "(18,)\n"
     ]
    }
   ],
   "source": [
    "from sklearn.svm import LinearSVC\n",
    "clf_lin= LinearSVC()\n",
    "clf_rbf=SVC(kernel='rbf')\n",
    "\n",
    "row50=np.random.randint(10000,size=50)\n",
    "y1=stdev[row50]\n",
    "y2=diff2[row50]\n",
    "x50=eqc_scaled.iloc[row50,:]\n",
    "\n",
    "from sklearn.linear_model import Lasso,LassoCV\n",
    "\n",
    "lassocv1 = LassoCV(cv=10).fit(x50,y1)\n",
    "\n",
    "alpha1 = lassocv1.alpha_\n",
    "print('最適alpha：' + str(alpha1))\n",
    "\n",
    "coef1 = pd.Series(lassocv1.coef_)# .coef_ 可以返回经过学习后的所有 feature 的参数。\n",
    "print(\"Lasso picked \" + str(sum(coef1 != 0)) + \" variables and eliminated the other \" +  str(sum(coef1 == 0)) + \" variables\")\n",
    "\n",
    "\n",
    "lassocv2 = LassoCV(cv=10).fit(x50,y2)\n",
    "alpha2 = lassocv2.alpha_\n",
    "print('最適alpha：' + str(alpha2))\n",
    "\n",
    "coef2 = pd.Series(lassocv2.coef_)# .coef_ 可以返回经过学习后的所有 feature 的参数。\n",
    "print(\"Lasso picked \" + str(sum(coef2 != 0)) + \" variables and eliminated the other \" +  str(sum(coef2 == 0)) + \" variables\")\n",
    "\n",
    "pc1_index= np.where(coef1 != 0)\n",
    "pc2_index= np.where(coef2 != 0)\n",
    "index=np.union1d(pc1_index,pc2_index)\n",
    "print(index.shape)\n",
    "\n",
    "\n"
   ]
  },
  {
   "cell_type": "code",
   "execution_count": 117,
   "metadata": {},
   "outputs": [
    {
     "name": "stdout",
     "output_type": "stream",
     "text": [
      "最適alpha：0.01870368940937623\n",
      "Lasso picked 14 variables and eliminated the other 76 variables\n",
      "最適alpha：0.05514776907153016\n",
      "Lasso picked 11 variables and eliminated the other 79 variables\n",
      "(22,)\n"
     ]
    }
   ],
   "source": [
    "row=np.random.randint(10000,size=100)\n",
    "y1=stdev[row]\n",
    "y2=diff2[row]\n",
    "x=eqc_scaled.iloc[row,:]\n",
    "\n",
    "from sklearn.linear_model import Lasso,LassoCV\n",
    "\n",
    "lassocv1 = LassoCV(cv=10).fit(x,y1)\n",
    "\n",
    "alpha1 = lassocv1.alpha_\n",
    "print('最適alpha：' + str(alpha1))\n",
    "\n",
    "coef1 = pd.Series(lassocv1.coef_)# .coef_ 可以返回经过学习后的所有 feature 的参数。\n",
    "print(\"Lasso picked \" + str(sum(coef1 != 0)) + \" variables and eliminated the other \" +  str(sum(coef1 == 0)) + \" variables\")\n",
    "\n",
    "\n",
    "lassocv2 = LassoCV(cv=10).fit(x,y2)\n",
    "alpha2 = lassocv2.alpha_\n",
    "print('最適alpha：' + str(alpha2))\n",
    "\n",
    "coef2 = pd.Series(lassocv2.coef_)# .coef_ 可以返回经过学习后的所有 feature 的参数。\n",
    "print(\"Lasso picked \" + str(sum(coef2 != 0)) + \" variables and eliminated the other \" +  str(sum(coef2 == 0)) + \" variables\")\n",
    "\n",
    "pc1_index= np.where(coef1 != 0)\n",
    "pc2_index= np.where(coef2 != 0)\n",
    "index=np.union1d(pc1_index,pc2_index)\n",
    "print(index.shape)\n"
   ]
  },
  {
   "cell_type": "code",
   "execution_count": 128,
   "metadata": {},
   "outputs": [
    {
     "name": "stdout",
     "output_type": "stream",
     "text": [
      "最適alpha：0.005898558518130693\n",
      "Lasso picked 14 variables and eliminated the other 76 variables\n",
      "最適alpha：0.0003748261727488586\n",
      "Lasso picked 26 variables and eliminated the other 64 variables\n",
      "(30,)\n"
     ]
    }
   ],
   "source": [
    "row=np.random.randint(10000,size=300)\n",
    "y1=stdev[row]\n",
    "y2=diff2[row]\n",
    "x=eqc_scaled.iloc[row,:]\n",
    "\n",
    "from sklearn.linear_model import Lasso,LassoCV\n",
    "\n",
    "lassocv1 = LassoCV(cv=10).fit(x,y1)\n",
    "\n",
    "alpha1 = lassocv1.alpha_\n",
    "print('最適alpha：' + str(alpha1))\n",
    "\n",
    "coef1 = pd.Series(lassocv1.coef_)# .coef_ 可以返回经过学习后的所有 feature 的参数。\n",
    "print(\"Lasso picked \" + str(sum(coef1 != 0)) + \" variables and eliminated the other \" +  str(sum(coef1 == 0)) + \" variables\")\n",
    "\n",
    "\n",
    "lassocv2 = LassoCV(cv=10).fit(x,y2)\n",
    "alpha2 = lassocv2.alpha_\n",
    "print('最適alpha：' + str(alpha2))\n",
    "\n",
    "coef2 = pd.Series(lassocv2.coef_)# .coef_ 可以返回经过学习后的所有 feature 的参数。\n",
    "print(\"Lasso picked \" + str(sum(coef2 != 0)) + \" variables and eliminated the other \" +  str(sum(coef2 == 0)) + \" variables\")\n",
    "\n",
    "pc1_index= np.where(coef1 != 0)\n",
    "pc2_index= np.where(coef2 != 0)\n",
    "index=np.union1d(pc1_index,pc2_index)\n",
    "print(index.shape)\n",
    "\n"
   ]
  },
  {
   "cell_type": "code",
   "execution_count": 139,
   "metadata": {},
   "outputs": [
    {
     "name": "stdout",
     "output_type": "stream",
     "text": [
      "最適alpha：0.005509332240794952\n",
      "Lasso picked 16 variables and eliminated the other 74 variables\n",
      "最適alpha：0.0003420887406951608\n",
      "Lasso picked 25 variables and eliminated the other 65 variables\n",
      "(35,)\n"
     ]
    }
   ],
   "source": [
    "row=np.random.randint(10000,size=500)\n",
    "y1=stdev[row]\n",
    "y2=diff2[row]\n",
    "x=eqc_scaled.iloc[row,:]\n",
    "\n",
    "from sklearn.linear_model import Lasso,LassoCV\n",
    "\n",
    "lassocv1 = LassoCV(cv=10).fit(x,y1)\n",
    "\n",
    "alpha1 = lassocv1.alpha_\n",
    "print('最適alpha：' + str(alpha1))\n",
    "\n",
    "coef1 = pd.Series(lassocv1.coef_)# .coef_ 可以返回经过学习后的所有 feature 的参数。\n",
    "print(\"Lasso picked \" + str(sum(coef1 != 0)) + \" variables and eliminated the other \" +  str(sum(coef1 == 0)) + \" variables\")\n",
    "\n",
    "\n",
    "lassocv2 = LassoCV(cv=10).fit(x,y2)\n",
    "alpha2 = lassocv2.alpha_\n",
    "print('最適alpha：' + str(alpha2))\n",
    "\n",
    "coef2 = pd.Series(lassocv2.coef_)# .coef_ 可以返回经过学习后的所有 feature 的参数。\n",
    "print(\"Lasso picked \" + str(sum(coef2 != 0)) + \" variables and eliminated the other \" +  str(sum(coef2 == 0)) + \" variables\")\n",
    "\n",
    "pc1_index= np.where(coef1 != 0)\n",
    "pc2_index= np.where(coef2 != 0)\n",
    "index=np.union1d(pc1_index,pc2_index)\n",
    "print(index.shape)\n",
    "\n"
   ]
  },
  {
   "cell_type": "code",
   "execution_count": 151,
   "metadata": {},
   "outputs": [
    {
     "name": "stdout",
     "output_type": "stream",
     "text": [
      "最適alpha：0.0067827212449105825\n",
      "Lasso picked 15 variables and eliminated the other 75 variables\n",
      "最適alpha：0.00028971831720407177\n",
      "Lasso picked 25 variables and eliminated the other 65 variables\n",
      "(31,)\n"
     ]
    }
   ],
   "source": [
    "row=np.random.randint(10000,size=1000)\n",
    "y1=stdev[row]\n",
    "y2=diff2[row]\n",
    "x=eqc_scaled.iloc[row,:]\n",
    "\n",
    "from sklearn.linear_model import Lasso,LassoCV\n",
    "\n",
    "lassocv1 = LassoCV(cv=10).fit(x,y1)\n",
    "\n",
    "alpha1 = lassocv1.alpha_\n",
    "print('最適alpha：' + str(alpha1))\n",
    "\n",
    "coef1 = pd.Series(lassocv1.coef_)# .coef_ 可以返回经过学习后的所有 feature 的参数。\n",
    "print(\"Lasso picked \" + str(sum(coef1 != 0)) + \" variables and eliminated the other \" +  str(sum(coef1 == 0)) + \" variables\")\n",
    "\n",
    "\n",
    "lassocv2 = LassoCV(cv=10).fit(x,y2)\n",
    "alpha2 = lassocv2.alpha_\n",
    "print('最適alpha：' + str(alpha2))\n",
    "\n",
    "coef2 = pd.Series(lassocv2.coef_)# .coef_ 可以返回经过学习后的所有 feature 的参数。\n",
    "print(\"Lasso picked \" + str(sum(coef2 != 0)) + \" variables and eliminated the other \" +  str(sum(coef2 == 0)) + \" variables\")\n",
    "\n",
    "pc1_index= np.where(coef1 != 0)\n",
    "pc2_index= np.where(coef2 != 0)\n",
    "index=np.union1d(pc1_index,pc2_index)\n",
    "print(index.shape)\n",
    "\n"
   ]
  },
  {
   "cell_type": "code",
   "execution_count": 224,
   "metadata": {},
   "outputs": [
    {
     "name": "stdout",
     "output_type": "stream",
     "text": [
      "最適alpha：0.022912339182304915\n",
      "Lasso picked 14 variables and eliminated the other 76 variables\n",
      "最適alpha：0.05056372504372461\n",
      "Lasso picked 11 variables and eliminated the other 79 variables\n",
      "(23,)\n"
     ]
    }
   ],
   "source": [
    "row=np.random.randint(10000,size=200)\n",
    "y1=stdev[row]\n",
    "y2=diff2[row]\n",
    "x=eqc_scaled.iloc[row,:]\n",
    "\n",
    "from sklearn.linear_model import Lasso,LassoCV\n",
    "\n",
    "lassocv1 = LassoCV(cv=10).fit(x,y1)\n",
    "\n",
    "alpha1 = lassocv1.alpha_\n",
    "print('最適alpha：' + str(alpha1))\n",
    "\n",
    "coef1 = pd.Series(lassocv1.coef_)# .coef_ 可以返回经过学习后的所有 feature 的参数。\n",
    "print(\"Lasso picked \" + str(sum(coef1 != 0)) + \" variables and eliminated the other \" +  str(sum(coef1 == 0)) + \" variables\")\n",
    "\n",
    "\n",
    "lassocv2 = LassoCV(cv=10).fit(x,y2)\n",
    "alpha2 = lassocv2.alpha_\n",
    "print('最適alpha：' + str(alpha2))\n",
    "\n",
    "coef2 = pd.Series(lassocv2.coef_)# .coef_ 可以返回经过学习后的所有 feature 的参数。\n",
    "print(\"Lasso picked \" + str(sum(coef2 != 0)) + \" variables and eliminated the other \" +  str(sum(coef2 == 0)) + \" variables\")\n",
    "\n",
    "pc1_index= np.where(coef1 != 0)\n",
    "pc2_index= np.where(coef2 != 0)\n",
    "index=np.union1d(pc1_index,pc2_index)\n",
    "print(index.shape)"
   ]
  },
  {
   "cell_type": "code",
   "execution_count": 202,
   "metadata": {},
   "outputs": [
    {
     "name": "stdout",
     "output_type": "stream",
     "text": [
      "最適alpha：0.0005485935776010498\n",
      "Lasso picked 20 variables and eliminated the other 70 variables\n",
      "最適alpha：0.00028780829064805566\n",
      "Lasso picked 25 variables and eliminated the other 65 variables\n",
      "(37,)\n"
     ]
    }
   ],
   "source": [
    "row=np.random.randint(10000,size=10000)\n",
    "y1=stdev[row]\n",
    "y2=diff2[row]\n",
    "x=eqc_scaled.iloc[row,:]\n",
    "\n",
    "from sklearn.linear_model import Lasso,LassoCV\n",
    "\n",
    "lassocv1 = LassoCV(cv=10).fit(x,y1)\n",
    "\n",
    "alpha1 = lassocv1.alpha_\n",
    "print('最適alpha：' + str(alpha1))\n",
    "\n",
    "coef1 = pd.Series(lassocv1.coef_)# .coef_ 可以返回经过学习后的所有 feature 的参数。\n",
    "print(\"Lasso picked \" + str(sum(coef1 != 0)) + \" variables and eliminated the other \" +  str(sum(coef1 == 0)) + \" variables\")\n",
    "\n",
    "\n",
    "lassocv2 = LassoCV(cv=10).fit(x,y2)\n",
    "alpha2 = lassocv2.alpha_\n",
    "print('最適alpha：' + str(alpha2))\n",
    "\n",
    "coef2 = pd.Series(lassocv2.coef_)# .coef_ 可以返回经过学习后的所有 feature 的参数。\n",
    "print(\"Lasso picked \" + str(sum(coef2 != 0)) + \" variables and eliminated the other \" +  str(sum(coef2 == 0)) + \" variables\")\n",
    "\n",
    "pc1_index= np.where(coef1 != 0)\n",
    "pc2_index= np.where(coef2 != 0)\n",
    "index=np.union1d(pc1_index,pc2_index)\n",
    "print(index.shape)\n",
    "\n"
   ]
  },
  {
   "cell_type": "code",
   "execution_count": 93,
   "metadata": {},
   "outputs": [
    {
     "name": "stdout",
     "output_type": "stream",
     "text": [
      "最適alpha：0.12777589506370962\n",
      "Lasso picked 9 variables and eliminated the other 81 variables\n",
      "最適alpha：0.2677919566246135\n",
      "Lasso picked 1 variables and eliminated the other 89 variables\n",
      "(10,)\n",
      "[0.72537313 0.92714571 0.77122877 0.756      0.95       0.54054054\n",
      " 0.95795796 0.76576577 0.91482966 0.72417252]\n",
      "RBF Accuracy: 0.80 (+/- 0.25)\n",
      "計算時間: 4.615881734548793\n",
      "[0.90149254 0.85329341 0.58941059 0.627      0.78       0.54654655\n",
      " 0.6986987  0.6996997  0.59619238 0.70411234]\n",
      "Lin Accuracy: 0.70 (+/- 0.22)\n",
      "計算時間: 14.184570018327577\n"
     ]
    }
   ],
   "source": [
    "y1=stdev\n",
    "y2=diff2\n",
    "x=eqc_scaled\n",
    "\n",
    "from sklearn.linear_model import Lasso,LassoCV\n",
    "\n",
    "lassocv1 = LassoCV(cv=10).fit(x,y1)\n",
    "\n",
    "alpha1 = lassocv1.alpha_\n",
    "print('最適alpha：' + str(alpha1))\n",
    "\n",
    "coef1 = pd.Series(lassocv1.coef_)# .coef_ 可以返回经过学习后的所有 feature 的参数。\n",
    "print(\"Lasso picked \" + str(sum(coef1 != 0)) + \" variables and eliminated the other \" +  str(sum(coef1 == 0)) + \" variables\")\n",
    "\n",
    "\n",
    "lassocv2 = LassoCV(cv=10).fit(x,y2)\n",
    "alpha2 = lassocv2.alpha_\n",
    "print('最適alpha：' + str(alpha2))\n",
    "\n",
    "coef2 = pd.Series(lassocv2.coef_)# .coef_ 可以返回经过学习后的所有 feature 的参数。\n",
    "print(\"Lasso picked \" + str(sum(coef2 != 0)) + \" variables and eliminated the other \" +  str(sum(coef2 == 0)) + \" variables\")\n",
    "\n",
    "pc1_index= np.where(coef1 != 0)\n",
    "pc2_index= np.where(coef2 != 0)\n",
    "index=np.union1d(pc1_index,pc2_index)\n",
    "print(index.shape)\n",
    "\n",
    "\n",
    "y=df.iloc[:,101]\n",
    "svm_x=eqc_scaled.iloc[:,index]\n",
    "start = time.clock()\n",
    "\n",
    "scores = cross_val_score(clf_rbf,svm_x, y,cv=10,scoring='accuracy')\n",
    "print(scores)\n",
    "print(\"RBF Accuracy: %0.2f (+/- %0.2f)\" % (scores.mean(), scores.std() * 2))\n",
    "end = time.clock()\n",
    "print(\"計算時間:\",end-start)\n",
    "\n",
    "start = time.clock()\n",
    "\n",
    "scores = cross_val_score(clf_lin,svm_x, y, cv=10,scoring='accuracy')\n",
    "print(scores)\n",
    "print(\"Lin Accuracy: %0.2f (+/- %0.2f)\" % (scores.mean(), scores.std() * 2))\n",
    "end = time.clock()\n",
    "print(\"計算時間:\",end-start)"
   ]
  },
  {
   "cell_type": "code",
   "execution_count": 94,
   "metadata": {},
   "outputs": [
    {
     "name": "stdout",
     "output_type": "stream",
     "text": [
      "最適alpha：0.0005534772842111792\n",
      "Lasso picked 20 variables and eliminated the other 70 variables\n",
      "最適alpha：0.00028909867161428096\n",
      "Lasso picked 26 variables and eliminated the other 64 variables\n",
      "(38,)\n",
      "[0.9552795  0.9501868  0.94763092 0.95380774 0.96375    0.96245307\n",
      " 0.94993742 0.96110414 0.96737767 0.95734003]\n",
      "RBF Accuracy: 0.96 (+/- 0.01)\n",
      "計算時間: 5.843769919777287\n",
      "[0.85217391 0.83561644 0.85162095 0.84893883 0.85625    0.85231539\n",
      " 0.8485607  0.8531995  0.86700125 0.86072773]\n",
      "Lin Accuracy: 0.85 (+/- 0.02)\n",
      "計算時間: 21.97242132419865\n"
     ]
    }
   ],
   "source": [
    "row=np.random.randint(10000,size=8000)\n",
    "y1=stdev[row]\n",
    "y2=diff2[row]\n",
    "x=eqc_scaled.iloc[row,:]\n",
    "\n",
    "from sklearn.linear_model import Lasso,LassoCV\n",
    "\n",
    "lassocv1 = LassoCV(cv=10).fit(x,y1)\n",
    "\n",
    "alpha1 = lassocv1.alpha_\n",
    "print('最適alpha：' + str(alpha1))\n",
    "\n",
    "coef1 = pd.Series(lassocv1.coef_)# .coef_ 可以返回经过学习后的所有 feature 的参数。\n",
    "print(\"Lasso picked \" + str(sum(coef1 != 0)) + \" variables and eliminated the other \" +  str(sum(coef1 == 0)) + \" variables\")\n",
    "\n",
    "\n",
    "lassocv2 = LassoCV(cv=10).fit(x,y2)\n",
    "alpha2 = lassocv2.alpha_\n",
    "print('最適alpha：' + str(alpha2))\n",
    "\n",
    "coef2 = pd.Series(lassocv2.coef_)# .coef_ 可以返回经过学习后的所有 feature 的参数。\n",
    "print(\"Lasso picked \" + str(sum(coef2 != 0)) + \" variables and eliminated the other \" +  str(sum(coef2 == 0)) + \" variables\")\n",
    "\n",
    "pc1_index= np.where(coef1 != 0)\n",
    "pc2_index= np.where(coef2 != 0)\n",
    "index=np.union1d(pc1_index,pc2_index)\n",
    "print(index.shape)\n",
    "\n",
    "\n",
    "y=df.iloc[row,101]\n",
    "svm_x=eqc_scaled.iloc[row,index]\n",
    "start = time.clock()\n",
    "\n",
    "scores = cross_val_score(clf_rbf,svm_x, y,cv=10,scoring='accuracy')\n",
    "print(scores)\n",
    "print(\"RBF Accuracy: %0.2f (+/- %0.2f)\" % (scores.mean(), scores.std() * 2))\n",
    "end = time.clock()\n",
    "print(\"計算時間:\",end-start)\n",
    "\n",
    "start = time.clock()\n",
    "\n",
    "scores = cross_val_score(clf_lin,svm_x, y, cv=10,scoring='accuracy')\n",
    "print(scores)\n",
    "print(\"Lin Accuracy: %0.2f (+/- %0.2f)\" % (scores.mean(), scores.std() * 2))\n",
    "end = time.clock()\n",
    "print(\"計算時間:\",end-start)"
   ]
  },
  {
   "cell_type": "code",
   "execution_count": 95,
   "metadata": {},
   "outputs": [
    {
     "name": "stdout",
     "output_type": "stream",
     "text": [
      "最適alpha：0.0005397142549228478\n",
      "Lasso picked 20 variables and eliminated the other 70 variables\n",
      "最適alpha：0.0002855159281828904\n",
      "Lasso picked 28 variables and eliminated the other 62 variables\n",
      "(39,)\n",
      "[0.95681063 0.95343681 0.95676275 0.96777778 0.96111111 0.96333333\n",
      " 0.96329255 0.96436526 0.95100223 0.95768374]\n",
      "RBF Accuracy: 0.96 (+/- 0.01)\n",
      "計算時間: 6.786274244985179\n",
      "[0.8648948  0.845898   0.85033259 0.84777778 0.84666667 0.84666667\n",
      " 0.84760845 0.844098   0.85634744 0.85077951]\n",
      "Lin Accuracy: 0.85 (+/- 0.01)\n",
      "計算時間: 22.983915967933854\n"
     ]
    }
   ],
   "source": [
    "row=np.random.randint(10000,size=9000)\n",
    "y1=stdev[row]\n",
    "y2=diff2[row]\n",
    "x=eqc_scaled.iloc[row,:]\n",
    "\n",
    "from sklearn.linear_model import Lasso,LassoCV\n",
    "\n",
    "lassocv1 = LassoCV(cv=10).fit(x,y1)\n",
    "\n",
    "alpha1 = lassocv1.alpha_\n",
    "print('最適alpha：' + str(alpha1))\n",
    "\n",
    "coef1 = pd.Series(lassocv1.coef_)# .coef_ 可以返回经过学习后的所有 feature 的参数。\n",
    "print(\"Lasso picked \" + str(sum(coef1 != 0)) + \" variables and eliminated the other \" +  str(sum(coef1 == 0)) + \" variables\")\n",
    "\n",
    "\n",
    "lassocv2 = LassoCV(cv=10).fit(x,y2)\n",
    "alpha2 = lassocv2.alpha_\n",
    "print('最適alpha：' + str(alpha2))\n",
    "\n",
    "coef2 = pd.Series(lassocv2.coef_)# .coef_ 可以返回经过学习后的所有 feature 的参数。\n",
    "print(\"Lasso picked \" + str(sum(coef2 != 0)) + \" variables and eliminated the other \" +  str(sum(coef2 == 0)) + \" variables\")\n",
    "\n",
    "pc1_index= np.where(coef1 != 0)\n",
    "pc2_index= np.where(coef2 != 0)\n",
    "index=np.union1d(pc1_index,pc2_index)\n",
    "print(index.shape)\n",
    "\n",
    "\n",
    "y=df.iloc[row,101]\n",
    "svm_x=eqc_scaled.iloc[row,index]\n",
    "start = time.clock()\n",
    "\n",
    "scores = cross_val_score(clf_rbf,svm_x, y,cv=10,scoring='accuracy')\n",
    "print(scores)\n",
    "print(\"RBF Accuracy: %0.2f (+/- %0.2f)\" % (scores.mean(), scores.std() * 2))\n",
    "end = time.clock()\n",
    "print(\"計算時間:\",end-start)\n",
    "\n",
    "start = time.clock()\n",
    "\n",
    "scores = cross_val_score(clf_lin,svm_x, y, cv=10,scoring='accuracy')\n",
    "print(scores)\n",
    "print(\"Lin Accuracy: %0.2f (+/- %0.2f)\" % (scores.mean(), scores.std() * 2))\n",
    "end = time.clock()\n",
    "print(\"計算時間:\",end-start)"
   ]
  },
  {
   "cell_type": "code",
   "execution_count": 96,
   "metadata": {},
   "outputs": [
    {
     "name": "stdout",
     "output_type": "stream",
     "text": [
      "最適alpha：0.0005451226828740418\n",
      "Lasso picked 20 variables and eliminated the other 70 variables\n",
      "最適alpha：0.00027086070944060825\n",
      "Lasso picked 24 variables and eliminated the other 66 variables\n",
      "(36,)\n",
      "[0.96119403 0.96115538 0.96311067 0.96011964 0.95604396 0.96896897\n",
      " 0.95887663 0.96184739 0.96987952 0.97088353]\n",
      "RBF Accuracy: 0.96 (+/- 0.01)\n",
      "計算時間: 8.289057359654862\n",
      "[0.85472637 0.8376494  0.84945165 0.84247258 0.85614386 0.84384384\n",
      " 0.85055165 0.84036145 0.83333333 0.84337349]\n",
      "Lin Accuracy: 0.85 (+/- 0.01)\n",
      "計算時間: 26.565175184966165\n"
     ]
    }
   ],
   "source": [
    "row=np.random.randint(10000,size=10000)\n",
    "y1=stdev[row]\n",
    "y2=diff2[row]\n",
    "x=eqc_scaled.iloc[row,:]\n",
    "\n",
    "from sklearn.linear_model import Lasso,LassoCV\n",
    "\n",
    "lassocv1 = LassoCV(cv=10).fit(x,y1)\n",
    "\n",
    "alpha1 = lassocv1.alpha_\n",
    "print('最適alpha：' + str(alpha1))\n",
    "\n",
    "coef1 = pd.Series(lassocv1.coef_)# .coef_ 可以返回经过学习后的所有 feature 的参数。\n",
    "print(\"Lasso picked \" + str(sum(coef1 != 0)) + \" variables and eliminated the other \" +  str(sum(coef1 == 0)) + \" variables\")\n",
    "\n",
    "\n",
    "lassocv2 = LassoCV(cv=10).fit(x,y2)\n",
    "alpha2 = lassocv2.alpha_\n",
    "print('最適alpha：' + str(alpha2))\n",
    "\n",
    "coef2 = pd.Series(lassocv2.coef_)# .coef_ 可以返回经过学习后的所有 feature 的参数。\n",
    "print(\"Lasso picked \" + str(sum(coef2 != 0)) + \" variables and eliminated the other \" +  str(sum(coef2 == 0)) + \" variables\")\n",
    "\n",
    "pc1_index= np.where(coef1 != 0)\n",
    "pc2_index= np.where(coef2 != 0)\n",
    "index=np.union1d(pc1_index,pc2_index)\n",
    "print(index.shape)\n",
    "\n",
    "\n",
    "y=df.iloc[row,101]\n",
    "svm_x=eqc_scaled.iloc[row,index]\n",
    "start = time.clock()\n",
    "\n",
    "scores = cross_val_score(clf_rbf,svm_x, y,cv=10,scoring='accuracy')\n",
    "print(scores)\n",
    "print(\"RBF Accuracy: %0.2f (+/- %0.2f)\" % (scores.mean(), scores.std() * 2))\n",
    "end = time.clock()\n",
    "print(\"計算時間:\",end-start)\n",
    "\n",
    "start = time.clock()\n",
    "\n",
    "scores = cross_val_score(clf_lin,svm_x, y, cv=10,scoring='accuracy')\n",
    "print(scores)\n",
    "print(\"Lin Accuracy: %0.2f (+/- %0.2f)\" % (scores.mean(), scores.std() * 2))\n",
    "end = time.clock()\n",
    "print(\"計算時間:\",end-start)"
   ]
  }
 ],
 "metadata": {
  "kernelspec": {
   "display_name": "Python 3",
   "language": "python",
   "name": "python3"
  },
  "language_info": {
   "codemirror_mode": {
    "name": "ipython",
    "version": 3
   },
   "file_extension": ".py",
   "mimetype": "text/x-python",
   "name": "python",
   "nbconvert_exporter": "python",
   "pygments_lexer": "ipython3",
   "version": "3.6.8"
  }
 },
 "nbformat": 4,
 "nbformat_minor": 2
}
